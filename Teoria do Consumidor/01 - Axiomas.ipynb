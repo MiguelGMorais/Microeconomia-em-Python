{
 "cells": [
  {
   "cell_type": "markdown",
   "id": "d9f36a29-3835-46c2-9a60-515fc0215219",
   "metadata": {},
   "source": [
    "# Axiomas da Teoria do Consumidor"
   ]
  },
  {
   "cell_type": "code",
   "execution_count": null,
   "id": "d8eb5569-5386-45b3-a062-d10435d6a282",
   "metadata": {},
   "outputs": [],
   "source": []
  }
 ],
 "metadata": {
  "kernelspec": {
   "display_name": "Python 3 (ipykernel)",
   "language": "python",
   "name": "python3"
  },
  "language_info": {
   "codemirror_mode": {
    "name": "ipython",
    "version": 3
   },
   "file_extension": ".py",
   "mimetype": "text/x-python",
   "name": "python",
   "nbconvert_exporter": "python",
   "pygments_lexer": "ipython3",
   "version": "3.9.12"
  }
 },
 "nbformat": 4,
 "nbformat_minor": 5
}
